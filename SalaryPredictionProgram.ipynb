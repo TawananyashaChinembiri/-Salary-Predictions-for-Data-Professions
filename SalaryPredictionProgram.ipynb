{
 "cells": [
  {
   "cell_type": "code",
   "execution_count": 19,
   "id": "initial_id",
   "metadata": {
    "collapsed": true,
    "ExecuteTime": {
     "end_time": "2024-07-23T15:59:44.932880Z",
     "start_time": "2024-07-23T15:59:44.925255Z"
    }
   },
   "outputs": [],
   "source": [
    "\n",
    "import joblib\n",
    "import time\n",
    "model = joblib.load('Salary_Regression_Model.pkl')\n",
    "def SalaryPrediction(age, past_exp):\n",
    "    predictions = model.predict([[age,past_exp]])\n",
    "    return predictions, Salary_output(float(predictions))"
   ]
  },
  {
   "cell_type": "code",
   "outputs": [],
   "source": [
    "def Salary_output(predictions):\n",
    "    print('The estimated salary of the Data Professional is $', predictions)"
   ],
   "metadata": {
    "collapsed": false,
    "ExecuteTime": {
     "end_time": "2024-07-23T15:59:45.998413Z",
     "start_time": "2024-07-23T15:59:45.993429Z"
    }
   },
   "id": "66a868229017ac00",
   "execution_count": 20
  },
  {
   "cell_type": "code",
   "outputs": [],
   "source": [
    "def Main():\n",
    "    age = int(input('Enter Age of Data Professional: '))\n",
    "    time.sleep(2)\n",
    "    past_exp = int(input('Enter Experience of Data Professional in years: '))\n",
    "    time.sleep(2)\n",
    "    SalaryPrediction(age, past_exp)"
   ],
   "metadata": {
    "collapsed": false,
    "ExecuteTime": {
     "end_time": "2024-07-23T15:59:46.509593Z",
     "start_time": "2024-07-23T15:59:46.503093Z"
    }
   },
   "id": "68bcc6b5567bc1ed",
   "execution_count": 21
  },
  {
   "cell_type": "code",
   "outputs": [
    {
     "name": "stdout",
     "output_type": "stream",
     "text": [
      "The estimated salary of the Data Professional is $ 558108.9650496518\n"
     ]
    }
   ],
   "source": [
    "Main()"
   ],
   "metadata": {
    "collapsed": false,
    "ExecuteTime": {
     "end_time": "2024-07-23T15:59:56.578408Z",
     "start_time": "2024-07-23T15:59:47.860223Z"
    }
   },
   "id": "e1059e9544eb0235",
   "execution_count": 22
  },
  {
   "cell_type": "code",
   "outputs": [],
   "source": [],
   "metadata": {
    "collapsed": false
   },
   "id": "7d43cd0afe1b27ed"
  }
 ],
 "metadata": {
  "kernelspec": {
   "display_name": "Python 3",
   "language": "python",
   "name": "python3"
  },
  "language_info": {
   "codemirror_mode": {
    "name": "ipython",
    "version": 2
   },
   "file_extension": ".py",
   "mimetype": "text/x-python",
   "name": "python",
   "nbconvert_exporter": "python",
   "pygments_lexer": "ipython2",
   "version": "2.7.6"
  }
 },
 "nbformat": 4,
 "nbformat_minor": 5
}
